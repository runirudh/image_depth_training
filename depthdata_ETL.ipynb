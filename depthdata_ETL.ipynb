{
 "cells": [
  {
   "cell_type": "code",
   "execution_count": 1,
   "id": "9d58e339-4416-4fc5-9014-59b218302607",
   "metadata": {},
   "outputs": [],
   "source": [
    "import numpy as np\n",
    "import matplotlib.pyplot as plt\n",
    "import pandas as pd\n",
    "from sklearn.model_selection import train_test_split\n",
    "import random\n",
    "from tensorflow import keras\n",
    "import tensorflow as tf"
   ]
  },
  {
   "cell_type": "code",
   "execution_count": 2,
   "id": "9e66ad63-9764-4cc9-91be-488d2796728d",
   "metadata": {},
   "outputs": [
    {
     "name": "stdout",
     "output_type": "stream",
     "text": [
      "['rgb_images', 'depth_maps']\n",
      "data rgb shape (3500, 3, 96, 96)\n",
      "data depth shape (3500, 1, 96, 96)\n"
     ]
    }
   ],
   "source": [
    "# https://www.kaggle.com/kmader/showing-the-rgbd-images/notebook data download link through kaggle nb\n",
    "b = np.load('depth_training_data.npz')\n",
    "print(b.files)\n",
    "data_rgb = b['rgb_images']                # RGB DATA \n",
    "data_depth = b['depth_maps']              # DEPTH DATA \n",
    "print(\"data rgb shape\", data_rgb.shape)\n",
    "print(\"data depth shape\", data_depth.shape)"
   ]
  },
  {
   "cell_type": "code",
   "execution_count": 3,
   "id": "a5626942-b8eb-4fdd-bbb3-c2d3b8c06f78",
   "metadata": {},
   "outputs": [
    {
     "name": "stdout",
     "output_type": "stream",
     "text": [
      "data_rgb min 0\n",
      "data_rgb max 255\n",
      "new data_rgb min 0.0\n",
      "new data_rgb max 1.0\n",
      "data_depth.min -1.0\n",
      "data_depth.max 0.20445603\n",
      "new data_depth.min 0.0\n",
      "new data_depth.max 1.2044561\n"
     ]
    }
   ],
   "source": [
    "#Normalizing the data\n",
    "# 1) rgb data\n",
    "print(\"data_rgb min\",data_rgb.min())\n",
    "print(\"data_rgb max\",data_rgb.max())\n",
    "data_rgb = data_rgb/255\n",
    "np.mean(data_rgb)\n",
    "print(\"new data_rgb min\",data_rgb.min())\n",
    "print(\"new data_rgb max\",data_rgb.max())\n",
    "\n",
    "# 2) depth data\n",
    "print(\"data_depth.min\",data_depth.min()) \n",
    "print(\"data_depth.max\",data_depth.max()) \n",
    "data_depth = data_depth - data_depth.min()\n",
    "print(\"new data_depth.min\",data_depth.min()) \n",
    "print(\"new data_depth.max\",data_depth.max())  "
   ]
  },
  {
   "cell_type": "code",
   "execution_count": null,
   "id": "69abcdad-162c-4035-8516-3eb7240dae47",
   "metadata": {},
   "outputs": [],
   "source": []
  },
  {
   "cell_type": "code",
   "execution_count": null,
   "id": "45f9acb6-45d2-477f-8f50-d498310cb92f",
   "metadata": {},
   "outputs": [],
   "source": []
  }
 ],
 "metadata": {
  "kernelspec": {
   "display_name": "Python 3 (ipykernel)",
   "language": "python",
   "name": "python3"
  },
  "language_info": {
   "codemirror_mode": {
    "name": "ipython",
    "version": 3
   },
   "file_extension": ".py",
   "mimetype": "text/x-python",
   "name": "python",
   "nbconvert_exporter": "python",
   "pygments_lexer": "ipython3",
   "version": "3.9.7"
  }
 },
 "nbformat": 4,
 "nbformat_minor": 5
}
